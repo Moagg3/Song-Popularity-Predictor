{
 "nbformat": 4,
 "nbformat_minor": 0,
 "metadata": {
  "colab": {
   "provenance": []
  },
  "kernelspec": {
   "name": "python3",
   "display_name": "Python 3"
  },
  "language_info": {
   "name": "python"
  }
 },
 "cells": [
  {
   "cell_type": "code",
   "execution_count": 1,
   "metadata": {
    "id": "_f8VyLrkTMg_"
   },
   "outputs": [],
   "source": [
    "import pandas as pd\n",
    "from matplotlib import pyplot\n",
    "\n",
    "from sklearn.linear_model import LogisticRegression\n",
    "from sklearn.ensemble import RandomForestClassifier\n",
    "from sklearn.neighbors import KNeighborsClassifier\n",
    "from sklearn.tree import DecisionTreeClassifier\n",
    "from sklearn.svm import LinearSVC\n",
    "from xgboost import XGBClassifier\n",
    "from sklearn.naive_bayes import GaussianNB\n",
    "from sklearn.ensemble import AdaBoostClassifier\n",
    "\n",
    "from sklearn.metrics import accuracy_score\n",
    "from sklearn.model_selection import train_test_split\n",
    "from numpy.random import default_rng\n",
    "\n",
    "import warnings\n",
    "warnings.filterwarnings(\"ignore\")"
   ]
  },
  {
   "cell_type": "code",
   "source": [
    "dataframe = pd.read_csv('countryData/region_AR')\n",
    "dataframe.head()"
   ],
   "metadata": {
    "colab": {
     "base_uri": "https://localhost:8080/",
     "height": 357
    },
    "id": "vQmnjGOpzJkH",
    "outputId": "3dddc319-3b9e-4659-b0a6-7b3143939ab2"
   },
   "execution_count": 2,
   "outputs": [
    {
     "data": {
      "text/plain": "   danceability  energy   key  loudness  mode  speechiness  acousticness  \\\n0         0.599   0.794   9.0    -4.277   0.0       0.0645        0.6060   \n1         0.782   0.706   7.0    -4.337   0.0       0.1900        0.0941   \n2         0.615   0.787   8.0    -4.742   0.0       0.1080        0.0620   \n3         0.749   0.671  11.0    -7.741   1.0       0.0568        0.0446   \n4         0.592   0.494   4.0   -10.618   0.0       0.0747        0.2370   \n\n   instrumentalness  liveness  valence  ...            type  \\\n0          0.000000    0.0602    0.971  ...  audio_features   \n1          0.000208    0.1150    0.855  ...  audio_features   \n2          0.000002    0.0707    0.869  ...  audio_features   \n3          0.000000    0.1010    0.120  ...  audio_features   \n4          0.000000    0.1300    0.231  ...  audio_features   \n\n                       id                                   uri  \\\n0  5gwCA6eUUqFNg5VVWo2Yzo  spotify:track:5gwCA6eUUqFNg5VVWo2Yzo   \n1  2btKz4s1XrMn5VHe7xZJpi  spotify:track:2btKz4s1XrMn5VHe7xZJpi   \n2  2zqm9jUoF9se5WwXqeMAAt  spotify:track:2zqm9jUoF9se5WwXqeMAAt   \n3  0QetVR4wwvyiTezQeFNdeZ  spotify:track:0QetVR4wwvyiTezQeFNdeZ   \n4  267NGliXM8YLVZiKAD9Otm  spotify:track:267NGliXM8YLVZiKAD9Otm   \n\n                                          track_href  \\\n0  https://api.spotify.com/v1/tracks/5gwCA6eUUqFN...   \n1  https://api.spotify.com/v1/tracks/2btKz4s1XrMn...   \n2  https://api.spotify.com/v1/tracks/2zqm9jUoF9se...   \n3  https://api.spotify.com/v1/tracks/0QetVR4wwvyi...   \n4  https://api.spotify.com/v1/tracks/267NGliXM8YL...   \n\n                                        analysis_url duration_ms  \\\n0  https://api.spotify.com/v1/audio-analysis/5gwC...    147960.0   \n1  https://api.spotify.com/v1/audio-analysis/2btK...    212907.0   \n2  https://api.spotify.com/v1/audio-analysis/2zqm...    143805.0   \n3  https://api.spotify.com/v1/audio-analysis/0Qet...    256131.0   \n4  https://api.spotify.com/v1/audio-analysis/267N...    209771.0   \n\n   time_signature  year  countryCode hit  \n0             3.0   NaN           ar   1  \n1             4.0   NaN           ar   1  \n2             4.0   NaN           ar   1  \n3             4.0   NaN           ar   1  \n4             4.0   NaN           ar   1  \n\n[5 rows x 21 columns]",
      "text/html": "<div>\n<style scoped>\n    .dataframe tbody tr th:only-of-type {\n        vertical-align: middle;\n    }\n\n    .dataframe tbody tr th {\n        vertical-align: top;\n    }\n\n    .dataframe thead th {\n        text-align: right;\n    }\n</style>\n<table border=\"1\" class=\"dataframe\">\n  <thead>\n    <tr style=\"text-align: right;\">\n      <th></th>\n      <th>danceability</th>\n      <th>energy</th>\n      <th>key</th>\n      <th>loudness</th>\n      <th>mode</th>\n      <th>speechiness</th>\n      <th>acousticness</th>\n      <th>instrumentalness</th>\n      <th>liveness</th>\n      <th>valence</th>\n      <th>...</th>\n      <th>type</th>\n      <th>id</th>\n      <th>uri</th>\n      <th>track_href</th>\n      <th>analysis_url</th>\n      <th>duration_ms</th>\n      <th>time_signature</th>\n      <th>year</th>\n      <th>countryCode</th>\n      <th>hit</th>\n    </tr>\n  </thead>\n  <tbody>\n    <tr>\n      <th>0</th>\n      <td>0.599</td>\n      <td>0.794</td>\n      <td>9.0</td>\n      <td>-4.277</td>\n      <td>0.0</td>\n      <td>0.0645</td>\n      <td>0.6060</td>\n      <td>0.000000</td>\n      <td>0.0602</td>\n      <td>0.971</td>\n      <td>...</td>\n      <td>audio_features</td>\n      <td>5gwCA6eUUqFNg5VVWo2Yzo</td>\n      <td>spotify:track:5gwCA6eUUqFNg5VVWo2Yzo</td>\n      <td>https://api.spotify.com/v1/tracks/5gwCA6eUUqFN...</td>\n      <td>https://api.spotify.com/v1/audio-analysis/5gwC...</td>\n      <td>147960.0</td>\n      <td>3.0</td>\n      <td>NaN</td>\n      <td>ar</td>\n      <td>1</td>\n    </tr>\n    <tr>\n      <th>1</th>\n      <td>0.782</td>\n      <td>0.706</td>\n      <td>7.0</td>\n      <td>-4.337</td>\n      <td>0.0</td>\n      <td>0.1900</td>\n      <td>0.0941</td>\n      <td>0.000208</td>\n      <td>0.1150</td>\n      <td>0.855</td>\n      <td>...</td>\n      <td>audio_features</td>\n      <td>2btKz4s1XrMn5VHe7xZJpi</td>\n      <td>spotify:track:2btKz4s1XrMn5VHe7xZJpi</td>\n      <td>https://api.spotify.com/v1/tracks/2btKz4s1XrMn...</td>\n      <td>https://api.spotify.com/v1/audio-analysis/2btK...</td>\n      <td>212907.0</td>\n      <td>4.0</td>\n      <td>NaN</td>\n      <td>ar</td>\n      <td>1</td>\n    </tr>\n    <tr>\n      <th>2</th>\n      <td>0.615</td>\n      <td>0.787</td>\n      <td>8.0</td>\n      <td>-4.742</td>\n      <td>0.0</td>\n      <td>0.1080</td>\n      <td>0.0620</td>\n      <td>0.000002</td>\n      <td>0.0707</td>\n      <td>0.869</td>\n      <td>...</td>\n      <td>audio_features</td>\n      <td>2zqm9jUoF9se5WwXqeMAAt</td>\n      <td>spotify:track:2zqm9jUoF9se5WwXqeMAAt</td>\n      <td>https://api.spotify.com/v1/tracks/2zqm9jUoF9se...</td>\n      <td>https://api.spotify.com/v1/audio-analysis/2zqm...</td>\n      <td>143805.0</td>\n      <td>4.0</td>\n      <td>NaN</td>\n      <td>ar</td>\n      <td>1</td>\n    </tr>\n    <tr>\n      <th>3</th>\n      <td>0.749</td>\n      <td>0.671</td>\n      <td>11.0</td>\n      <td>-7.741</td>\n      <td>1.0</td>\n      <td>0.0568</td>\n      <td>0.0446</td>\n      <td>0.000000</td>\n      <td>0.1010</td>\n      <td>0.120</td>\n      <td>...</td>\n      <td>audio_features</td>\n      <td>0QetVR4wwvyiTezQeFNdeZ</td>\n      <td>spotify:track:0QetVR4wwvyiTezQeFNdeZ</td>\n      <td>https://api.spotify.com/v1/tracks/0QetVR4wwvyi...</td>\n      <td>https://api.spotify.com/v1/audio-analysis/0Qet...</td>\n      <td>256131.0</td>\n      <td>4.0</td>\n      <td>NaN</td>\n      <td>ar</td>\n      <td>1</td>\n    </tr>\n    <tr>\n      <th>4</th>\n      <td>0.592</td>\n      <td>0.494</td>\n      <td>4.0</td>\n      <td>-10.618</td>\n      <td>0.0</td>\n      <td>0.0747</td>\n      <td>0.2370</td>\n      <td>0.000000</td>\n      <td>0.1300</td>\n      <td>0.231</td>\n      <td>...</td>\n      <td>audio_features</td>\n      <td>267NGliXM8YLVZiKAD9Otm</td>\n      <td>spotify:track:267NGliXM8YLVZiKAD9Otm</td>\n      <td>https://api.spotify.com/v1/tracks/267NGliXM8YL...</td>\n      <td>https://api.spotify.com/v1/audio-analysis/267N...</td>\n      <td>209771.0</td>\n      <td>4.0</td>\n      <td>NaN</td>\n      <td>ar</td>\n      <td>1</td>\n    </tr>\n  </tbody>\n</table>\n<p>5 rows × 21 columns</p>\n</div>"
     },
     "execution_count": 2,
     "metadata": {},
     "output_type": "execute_result"
    }
   ]
  },
  {
   "cell_type": "code",
   "execution_count": 3,
   "outputs": [],
   "source": [
    "dataframe = dataframe.drop('year', axis=1)"
   ],
   "metadata": {
    "collapsed": false,
    "pycharm": {
     "name": "#%%\n"
    }
   }
  },
  {
   "cell_type": "code",
   "source": [
    "dataframe.describe()"
   ],
   "metadata": {
    "colab": {
     "base_uri": "https://localhost:8080/",
     "height": 364
    },
    "id": "C29Igkz4zW8o",
    "outputId": "0095eee5-64b0-4c86-e28e-431bbf9ff9f2"
   },
   "execution_count": 4,
   "outputs": [
    {
     "data": {
      "text/plain": "       danceability       energy          key     loudness         mode  \\\ncount   7814.000000  7814.000000  7814.000000  7814.000000  7814.000000   \nmean       0.686539     0.651885     5.375096    -6.303689     0.564756   \nstd        0.139596     0.175268     3.614673     3.009936     0.495821   \nmin        0.000000     0.000020     0.000000   -40.449000     0.000000   \n25%        0.604000     0.553000     2.000000    -7.428750     0.000000   \n50%        0.707000     0.678500     6.000000    -5.748000     1.000000   \n75%        0.789000     0.781000     9.000000    -4.405000     1.000000   \nmax        0.980000     0.999000    11.000000     0.642000     1.000000   \n\n       speechiness  acousticness  instrumentalness     liveness      valence  \\\ncount  7814.000000   7814.000000       7814.000000  7814.000000  7814.000000   \nmean      0.104137      0.264825          0.021393     0.175724     0.568488   \nstd       0.092946      0.249210          0.115238     0.141351     0.228483   \nmin       0.000000      0.000000          0.000000     0.018100     0.000000   \n25%       0.042200      0.062625          0.000000     0.092500     0.398250   \n50%       0.066300      0.183000          0.000000     0.120000     0.580500   \n75%       0.129750      0.395000          0.000058     0.210000     0.755000   \nmax       0.848000      0.992000          1.000000     0.986000     0.992000   \n\n             tempo   duration_ms  time_signature          hit  \ncount  7814.000000  7.814000e+03     7814.000000  7839.000000  \nmean    121.465521  2.082754e+05        3.938956     0.445593  \nstd      31.838055  6.428568e+04        0.362713     0.497063  \nmin       0.000000  1.901200e+04        0.000000     0.000000  \n25%      94.999000  1.757652e+05        4.000000     0.000000  \n50%     117.978000  2.016400e+05        4.000000     0.000000  \n75%     142.094750  2.294080e+05        4.000000     1.000000  \nmax     212.443000  1.330157e+06        5.000000     1.000000  ",
      "text/html": "<div>\n<style scoped>\n    .dataframe tbody tr th:only-of-type {\n        vertical-align: middle;\n    }\n\n    .dataframe tbody tr th {\n        vertical-align: top;\n    }\n\n    .dataframe thead th {\n        text-align: right;\n    }\n</style>\n<table border=\"1\" class=\"dataframe\">\n  <thead>\n    <tr style=\"text-align: right;\">\n      <th></th>\n      <th>danceability</th>\n      <th>energy</th>\n      <th>key</th>\n      <th>loudness</th>\n      <th>mode</th>\n      <th>speechiness</th>\n      <th>acousticness</th>\n      <th>instrumentalness</th>\n      <th>liveness</th>\n      <th>valence</th>\n      <th>tempo</th>\n      <th>duration_ms</th>\n      <th>time_signature</th>\n      <th>hit</th>\n    </tr>\n  </thead>\n  <tbody>\n    <tr>\n      <th>count</th>\n      <td>7814.000000</td>\n      <td>7814.000000</td>\n      <td>7814.000000</td>\n      <td>7814.000000</td>\n      <td>7814.000000</td>\n      <td>7814.000000</td>\n      <td>7814.000000</td>\n      <td>7814.000000</td>\n      <td>7814.000000</td>\n      <td>7814.000000</td>\n      <td>7814.000000</td>\n      <td>7.814000e+03</td>\n      <td>7814.000000</td>\n      <td>7839.000000</td>\n    </tr>\n    <tr>\n      <th>mean</th>\n      <td>0.686539</td>\n      <td>0.651885</td>\n      <td>5.375096</td>\n      <td>-6.303689</td>\n      <td>0.564756</td>\n      <td>0.104137</td>\n      <td>0.264825</td>\n      <td>0.021393</td>\n      <td>0.175724</td>\n      <td>0.568488</td>\n      <td>121.465521</td>\n      <td>2.082754e+05</td>\n      <td>3.938956</td>\n      <td>0.445593</td>\n    </tr>\n    <tr>\n      <th>std</th>\n      <td>0.139596</td>\n      <td>0.175268</td>\n      <td>3.614673</td>\n      <td>3.009936</td>\n      <td>0.495821</td>\n      <td>0.092946</td>\n      <td>0.249210</td>\n      <td>0.115238</td>\n      <td>0.141351</td>\n      <td>0.228483</td>\n      <td>31.838055</td>\n      <td>6.428568e+04</td>\n      <td>0.362713</td>\n      <td>0.497063</td>\n    </tr>\n    <tr>\n      <th>min</th>\n      <td>0.000000</td>\n      <td>0.000020</td>\n      <td>0.000000</td>\n      <td>-40.449000</td>\n      <td>0.000000</td>\n      <td>0.000000</td>\n      <td>0.000000</td>\n      <td>0.000000</td>\n      <td>0.018100</td>\n      <td>0.000000</td>\n      <td>0.000000</td>\n      <td>1.901200e+04</td>\n      <td>0.000000</td>\n      <td>0.000000</td>\n    </tr>\n    <tr>\n      <th>25%</th>\n      <td>0.604000</td>\n      <td>0.553000</td>\n      <td>2.000000</td>\n      <td>-7.428750</td>\n      <td>0.000000</td>\n      <td>0.042200</td>\n      <td>0.062625</td>\n      <td>0.000000</td>\n      <td>0.092500</td>\n      <td>0.398250</td>\n      <td>94.999000</td>\n      <td>1.757652e+05</td>\n      <td>4.000000</td>\n      <td>0.000000</td>\n    </tr>\n    <tr>\n      <th>50%</th>\n      <td>0.707000</td>\n      <td>0.678500</td>\n      <td>6.000000</td>\n      <td>-5.748000</td>\n      <td>1.000000</td>\n      <td>0.066300</td>\n      <td>0.183000</td>\n      <td>0.000000</td>\n      <td>0.120000</td>\n      <td>0.580500</td>\n      <td>117.978000</td>\n      <td>2.016400e+05</td>\n      <td>4.000000</td>\n      <td>0.000000</td>\n    </tr>\n    <tr>\n      <th>75%</th>\n      <td>0.789000</td>\n      <td>0.781000</td>\n      <td>9.000000</td>\n      <td>-4.405000</td>\n      <td>1.000000</td>\n      <td>0.129750</td>\n      <td>0.395000</td>\n      <td>0.000058</td>\n      <td>0.210000</td>\n      <td>0.755000</td>\n      <td>142.094750</td>\n      <td>2.294080e+05</td>\n      <td>4.000000</td>\n      <td>1.000000</td>\n    </tr>\n    <tr>\n      <th>max</th>\n      <td>0.980000</td>\n      <td>0.999000</td>\n      <td>11.000000</td>\n      <td>0.642000</td>\n      <td>1.000000</td>\n      <td>0.848000</td>\n      <td>0.992000</td>\n      <td>1.000000</td>\n      <td>0.986000</td>\n      <td>0.992000</td>\n      <td>212.443000</td>\n      <td>1.330157e+06</td>\n      <td>5.000000</td>\n      <td>1.000000</td>\n    </tr>\n  </tbody>\n</table>\n</div>"
     },
     "execution_count": 4,
     "metadata": {},
     "output_type": "execute_result"
    }
   ]
  },
  {
   "cell_type": "code",
   "source": [
    "print(dataframe.keys())"
   ],
   "metadata": {
    "colab": {
     "base_uri": "https://localhost:8080/"
    },
    "id": "z4__8wdrzbDr",
    "outputId": "c0469a14-75c4-4c0e-884e-0253aa10b3a5"
   },
   "execution_count": 5,
   "outputs": [
    {
     "name": "stdout",
     "output_type": "stream",
     "text": [
      "Index(['danceability', 'energy', 'key', 'loudness', 'mode', 'speechiness',\n",
      "       'acousticness', 'instrumentalness', 'liveness', 'valence', 'tempo',\n",
      "       'type', 'id', 'uri', 'track_href', 'analysis_url', 'duration_ms',\n",
      "       'time_signature', 'countryCode', 'hit'],\n",
      "      dtype='object')\n"
     ]
    }
   ]
  },
  {
   "cell_type": "code",
   "source": [
    "pd.isnull(dataframe).sum()"
   ],
   "metadata": {
    "colab": {
     "base_uri": "https://localhost:8080/"
    },
    "id": "RxsZCKYiz2og",
    "outputId": "9aaf3be9-07d7-40e3-83e1-43c4f35b243e"
   },
   "execution_count": 6,
   "outputs": [
    {
     "data": {
      "text/plain": "danceability        25\nenergy              25\nkey                 25\nloudness            25\nmode                25\nspeechiness         25\nacousticness        25\ninstrumentalness    25\nliveness            25\nvalence             25\ntempo               25\ntype                25\nid                   1\nuri                  1\ntrack_href          25\nanalysis_url        25\nduration_ms         25\ntime_signature      25\ncountryCode          0\nhit                  0\ndtype: int64"
     },
     "execution_count": 6,
     "metadata": {},
     "output_type": "execute_result"
    }
   ]
  },
  {
   "cell_type": "code",
   "execution_count": 7,
   "outputs": [],
   "source": [
    "dataframe = dataframe.dropna()"
   ],
   "metadata": {
    "collapsed": false,
    "pycharm": {
     "name": "#%%\n"
    }
   }
  },
  {
   "cell_type": "code",
   "execution_count": 8,
   "outputs": [
    {
     "name": "stdout",
     "output_type": "stream",
     "text": [
      "Before Dropping: \n",
      "hit\n",
      "0    4322\n",
      "1    3492\n",
      "dtype: int64\n",
      "\n",
      "After Dropping: \n",
      "hit\n",
      "0    4322\n",
      "1     873\n",
      "dtype: int64\n"
     ]
    }
   ],
   "source": [
    "# Dropping number of hits to maintain realistic ratio\n",
    "print(\"Before Dropping: \")\n",
    "print(dataframe.groupby(['hit']).size())\n",
    "size_of_hits = sum(dataframe['hit'] == 1)\n",
    "\n",
    "size_to_drop = int((size_of_hits * 75)/100)\n",
    "arr_indices_top_drop = default_rng().choice(dataframe[dataframe['hit']==1].uri, size=size_to_drop, replace=False)\n",
    "dataframe = dataframe[~dataframe.uri.isin(arr_indices_top_drop)]\n",
    "\n",
    "print(\"\\nAfter Dropping: \")\n",
    "print(dataframe.groupby(['hit']).size())"
   ],
   "metadata": {
    "collapsed": false,
    "pycharm": {
     "name": "#%%\n"
    }
   }
  },
  {
   "cell_type": "code",
   "source": [
    "keys = dataframe['key'].unique()\n",
    "for i in range(len(keys)):\n",
    "    dataframe.loc[dataframe['key'] == keys[i], 'key'] = i\n",
    "dataframe.sample(5)"
   ],
   "metadata": {
    "colab": {
     "base_uri": "https://localhost:8080/",
     "height": 357
    },
    "id": "I7qBaYPA19d_",
    "outputId": "7a664693-c8a5-463b-b2ad-03dad673b28d"
   },
   "execution_count": 9,
   "outputs": [
    {
     "data": {
      "text/plain": "      danceability  energy   key  loudness  mode  speechiness  acousticness  \\\n4704         0.359   0.295  11.0    -7.944   1.0       0.0343        0.1870   \n7001         0.507   0.673  10.0    -6.293   1.0       0.1410        0.2880   \n4518         0.623   0.658   9.0    -6.914   1.0       0.0715        0.0212   \n7309         0.853   0.476   9.0    -6.696   1.0       0.0361        0.4050   \n5881         0.594   0.721   5.0    -7.812   1.0       0.0957        0.0209   \n\n      instrumentalness  liveness  valence    tempo            type  \\\n4704          0.000045    0.1850    0.125  115.189  audio_features   \n7001          0.000000    0.1630    0.552  120.725  audio_features   \n4518          0.000000    0.3380    0.476  142.772  audio_features   \n7309          0.000000    0.1110    0.796   92.038  audio_features   \n5881          0.000009    0.0879    0.253  128.942  audio_features   \n\n                          id                                   uri  \\\n4704  0R3pyNaDggFyPrQq8pd4hb  spotify:track:0R3pyNaDggFyPrQq8pd4hb   \n7001  1WhVPQsw0m9EpJ4riD20YK  spotify:track:1WhVPQsw0m9EpJ4riD20YK   \n4518  3FlLbxMOhAgiWCwfcsvwF8  spotify:track:3FlLbxMOhAgiWCwfcsvwF8   \n7309  5EYBryPOgIEPB7r5QIy6eG  spotify:track:5EYBryPOgIEPB7r5QIy6eG   \n5881  6ie2Bw3xLj2JcGowOlcMhb  spotify:track:6ie2Bw3xLj2JcGowOlcMhb   \n\n                                             track_href  \\\n4704  https://api.spotify.com/v1/tracks/0R3pyNaDggFy...   \n7001  https://api.spotify.com/v1/tracks/1WhVPQsw0m9E...   \n4518  https://api.spotify.com/v1/tracks/3FlLbxMOhAgi...   \n7309  https://api.spotify.com/v1/tracks/5EYBryPOgIEP...   \n5881  https://api.spotify.com/v1/tracks/6ie2Bw3xLj2J...   \n\n                                           analysis_url  duration_ms  \\\n4704  https://api.spotify.com/v1/audio-analysis/0R3p...     248733.0   \n7001  https://api.spotify.com/v1/audio-analysis/1WhV...     212820.0   \n4518  https://api.spotify.com/v1/audio-analysis/3FlL...     154987.0   \n7309  https://api.spotify.com/v1/audio-analysis/5EYB...     235747.0   \n5881  https://api.spotify.com/v1/audio-analysis/6ie2...     234653.0   \n\n      time_signature countryCode  hit  \n4704             5.0          ar    0  \n7001             4.0          ar    0  \n4518             4.0          ar    0  \n7309             4.0          ar    0  \n5881             4.0          ar    0  ",
      "text/html": "<div>\n<style scoped>\n    .dataframe tbody tr th:only-of-type {\n        vertical-align: middle;\n    }\n\n    .dataframe tbody tr th {\n        vertical-align: top;\n    }\n\n    .dataframe thead th {\n        text-align: right;\n    }\n</style>\n<table border=\"1\" class=\"dataframe\">\n  <thead>\n    <tr style=\"text-align: right;\">\n      <th></th>\n      <th>danceability</th>\n      <th>energy</th>\n      <th>key</th>\n      <th>loudness</th>\n      <th>mode</th>\n      <th>speechiness</th>\n      <th>acousticness</th>\n      <th>instrumentalness</th>\n      <th>liveness</th>\n      <th>valence</th>\n      <th>tempo</th>\n      <th>type</th>\n      <th>id</th>\n      <th>uri</th>\n      <th>track_href</th>\n      <th>analysis_url</th>\n      <th>duration_ms</th>\n      <th>time_signature</th>\n      <th>countryCode</th>\n      <th>hit</th>\n    </tr>\n  </thead>\n  <tbody>\n    <tr>\n      <th>4704</th>\n      <td>0.359</td>\n      <td>0.295</td>\n      <td>11.0</td>\n      <td>-7.944</td>\n      <td>1.0</td>\n      <td>0.0343</td>\n      <td>0.1870</td>\n      <td>0.000045</td>\n      <td>0.1850</td>\n      <td>0.125</td>\n      <td>115.189</td>\n      <td>audio_features</td>\n      <td>0R3pyNaDggFyPrQq8pd4hb</td>\n      <td>spotify:track:0R3pyNaDggFyPrQq8pd4hb</td>\n      <td>https://api.spotify.com/v1/tracks/0R3pyNaDggFy...</td>\n      <td>https://api.spotify.com/v1/audio-analysis/0R3p...</td>\n      <td>248733.0</td>\n      <td>5.0</td>\n      <td>ar</td>\n      <td>0</td>\n    </tr>\n    <tr>\n      <th>7001</th>\n      <td>0.507</td>\n      <td>0.673</td>\n      <td>10.0</td>\n      <td>-6.293</td>\n      <td>1.0</td>\n      <td>0.1410</td>\n      <td>0.2880</td>\n      <td>0.000000</td>\n      <td>0.1630</td>\n      <td>0.552</td>\n      <td>120.725</td>\n      <td>audio_features</td>\n      <td>1WhVPQsw0m9EpJ4riD20YK</td>\n      <td>spotify:track:1WhVPQsw0m9EpJ4riD20YK</td>\n      <td>https://api.spotify.com/v1/tracks/1WhVPQsw0m9E...</td>\n      <td>https://api.spotify.com/v1/audio-analysis/1WhV...</td>\n      <td>212820.0</td>\n      <td>4.0</td>\n      <td>ar</td>\n      <td>0</td>\n    </tr>\n    <tr>\n      <th>4518</th>\n      <td>0.623</td>\n      <td>0.658</td>\n      <td>9.0</td>\n      <td>-6.914</td>\n      <td>1.0</td>\n      <td>0.0715</td>\n      <td>0.0212</td>\n      <td>0.000000</td>\n      <td>0.3380</td>\n      <td>0.476</td>\n      <td>142.772</td>\n      <td>audio_features</td>\n      <td>3FlLbxMOhAgiWCwfcsvwF8</td>\n      <td>spotify:track:3FlLbxMOhAgiWCwfcsvwF8</td>\n      <td>https://api.spotify.com/v1/tracks/3FlLbxMOhAgi...</td>\n      <td>https://api.spotify.com/v1/audio-analysis/3FlL...</td>\n      <td>154987.0</td>\n      <td>4.0</td>\n      <td>ar</td>\n      <td>0</td>\n    </tr>\n    <tr>\n      <th>7309</th>\n      <td>0.853</td>\n      <td>0.476</td>\n      <td>9.0</td>\n      <td>-6.696</td>\n      <td>1.0</td>\n      <td>0.0361</td>\n      <td>0.4050</td>\n      <td>0.000000</td>\n      <td>0.1110</td>\n      <td>0.796</td>\n      <td>92.038</td>\n      <td>audio_features</td>\n      <td>5EYBryPOgIEPB7r5QIy6eG</td>\n      <td>spotify:track:5EYBryPOgIEPB7r5QIy6eG</td>\n      <td>https://api.spotify.com/v1/tracks/5EYBryPOgIEP...</td>\n      <td>https://api.spotify.com/v1/audio-analysis/5EYB...</td>\n      <td>235747.0</td>\n      <td>4.0</td>\n      <td>ar</td>\n      <td>0</td>\n    </tr>\n    <tr>\n      <th>5881</th>\n      <td>0.594</td>\n      <td>0.721</td>\n      <td>5.0</td>\n      <td>-7.812</td>\n      <td>1.0</td>\n      <td>0.0957</td>\n      <td>0.0209</td>\n      <td>0.000009</td>\n      <td>0.0879</td>\n      <td>0.253</td>\n      <td>128.942</td>\n      <td>audio_features</td>\n      <td>6ie2Bw3xLj2JcGowOlcMhb</td>\n      <td>spotify:track:6ie2Bw3xLj2JcGowOlcMhb</td>\n      <td>https://api.spotify.com/v1/tracks/6ie2Bw3xLj2J...</td>\n      <td>https://api.spotify.com/v1/audio-analysis/6ie2...</td>\n      <td>234653.0</td>\n      <td>4.0</td>\n      <td>ar</td>\n      <td>0</td>\n    </tr>\n  </tbody>\n</table>\n</div>"
     },
     "execution_count": 9,
     "metadata": {},
     "output_type": "execute_result"
    }
   ]
  },
  {
   "cell_type": "code",
   "source": [
    "dataframe.loc[dataframe[\"mode\"] == 'Major', \"mode\"] = 1\n",
    "dataframe.loc[dataframe[\"mode\"] == 'Minor', \"mode\"] = 0\n",
    "dataframe.sample(5)"
   ],
   "metadata": {
    "colab": {
     "base_uri": "https://localhost:8080/",
     "height": 357
    },
    "id": "Sz39WgWv19j8",
    "outputId": "0ad85574-da2b-4987-af94-83e7c998b30c"
   },
   "execution_count": 10,
   "outputs": [
    {
     "data": {
      "text/plain": "      danceability  energy   key  loudness  mode  speechiness  acousticness  \\\n6742         0.953   0.449   5.0    -7.409   1.0       0.0610        0.0184   \n2899         0.824   0.656  10.0    -3.652   1.0       0.0713        0.0613   \n6478         0.731   0.782   8.0    -5.706   0.0       0.2730        0.1410   \n3914         0.654   0.209   8.0   -12.627   1.0       0.0303        0.8200   \n6994         0.731   0.675  10.0    -5.428   1.0       0.0397        0.6680   \n\n      instrumentalness  liveness  valence    tempo            type  \\\n6742          0.000000    0.1230    0.491  130.040  audio_features   \n2899          0.000000    0.0564    0.794  101.981  audio_features   \n6478          0.000000    0.0463    0.481  145.073  audio_features   \n3914          0.000588    0.1990    0.254   84.836  audio_features   \n6994          0.000000    0.1600    0.753  120.963  audio_features   \n\n                          id                                   uri  \\\n6742  2GqCEJpzmD81AJ2H0Hyz5T  spotify:track:2GqCEJpzmD81AJ2H0Hyz5T   \n2899  56HBkP5mBsUALQnstFiqIY  spotify:track:56HBkP5mBsUALQnstFiqIY   \n6478  7hbodg9YQKWka80HWOxram  spotify:track:7hbodg9YQKWka80HWOxram   \n3914  5OUI94Blgl957LuASCdKrB  spotify:track:5OUI94Blgl957LuASCdKrB   \n6994  7feNblkR0A56vttsAGTyzK  spotify:track:7feNblkR0A56vttsAGTyzK   \n\n                                             track_href  \\\n6742  https://api.spotify.com/v1/tracks/2GqCEJpzmD81...   \n2899  https://api.spotify.com/v1/tracks/56HBkP5mBsUA...   \n6478  https://api.spotify.com/v1/tracks/7hbodg9YQKWk...   \n3914  https://api.spotify.com/v1/tracks/5OUI94Blgl95...   \n6994  https://api.spotify.com/v1/tracks/7feNblkR0A56...   \n\n                                           analysis_url  duration_ms  \\\n6742  https://api.spotify.com/v1/audio-analysis/2GqC...     260833.0   \n2899  https://api.spotify.com/v1/audio-analysis/56HB...     146051.0   \n6478  https://api.spotify.com/v1/audio-analysis/7hbo...     191110.0   \n3914  https://api.spotify.com/v1/audio-analysis/5OUI...     111426.0   \n6994  https://api.spotify.com/v1/audio-analysis/7feN...     208955.0   \n\n      time_signature countryCode  hit  \n6742             4.0          ar    0  \n2899             4.0          ar    1  \n6478             4.0          ar    0  \n3914             4.0          ar    0  \n6994             4.0          ar    0  ",
      "text/html": "<div>\n<style scoped>\n    .dataframe tbody tr th:only-of-type {\n        vertical-align: middle;\n    }\n\n    .dataframe tbody tr th {\n        vertical-align: top;\n    }\n\n    .dataframe thead th {\n        text-align: right;\n    }\n</style>\n<table border=\"1\" class=\"dataframe\">\n  <thead>\n    <tr style=\"text-align: right;\">\n      <th></th>\n      <th>danceability</th>\n      <th>energy</th>\n      <th>key</th>\n      <th>loudness</th>\n      <th>mode</th>\n      <th>speechiness</th>\n      <th>acousticness</th>\n      <th>instrumentalness</th>\n      <th>liveness</th>\n      <th>valence</th>\n      <th>tempo</th>\n      <th>type</th>\n      <th>id</th>\n      <th>uri</th>\n      <th>track_href</th>\n      <th>analysis_url</th>\n      <th>duration_ms</th>\n      <th>time_signature</th>\n      <th>countryCode</th>\n      <th>hit</th>\n    </tr>\n  </thead>\n  <tbody>\n    <tr>\n      <th>6742</th>\n      <td>0.953</td>\n      <td>0.449</td>\n      <td>5.0</td>\n      <td>-7.409</td>\n      <td>1.0</td>\n      <td>0.0610</td>\n      <td>0.0184</td>\n      <td>0.000000</td>\n      <td>0.1230</td>\n      <td>0.491</td>\n      <td>130.040</td>\n      <td>audio_features</td>\n      <td>2GqCEJpzmD81AJ2H0Hyz5T</td>\n      <td>spotify:track:2GqCEJpzmD81AJ2H0Hyz5T</td>\n      <td>https://api.spotify.com/v1/tracks/2GqCEJpzmD81...</td>\n      <td>https://api.spotify.com/v1/audio-analysis/2GqC...</td>\n      <td>260833.0</td>\n      <td>4.0</td>\n      <td>ar</td>\n      <td>0</td>\n    </tr>\n    <tr>\n      <th>2899</th>\n      <td>0.824</td>\n      <td>0.656</td>\n      <td>10.0</td>\n      <td>-3.652</td>\n      <td>1.0</td>\n      <td>0.0713</td>\n      <td>0.0613</td>\n      <td>0.000000</td>\n      <td>0.0564</td>\n      <td>0.794</td>\n      <td>101.981</td>\n      <td>audio_features</td>\n      <td>56HBkP5mBsUALQnstFiqIY</td>\n      <td>spotify:track:56HBkP5mBsUALQnstFiqIY</td>\n      <td>https://api.spotify.com/v1/tracks/56HBkP5mBsUA...</td>\n      <td>https://api.spotify.com/v1/audio-analysis/56HB...</td>\n      <td>146051.0</td>\n      <td>4.0</td>\n      <td>ar</td>\n      <td>1</td>\n    </tr>\n    <tr>\n      <th>6478</th>\n      <td>0.731</td>\n      <td>0.782</td>\n      <td>8.0</td>\n      <td>-5.706</td>\n      <td>0.0</td>\n      <td>0.2730</td>\n      <td>0.1410</td>\n      <td>0.000000</td>\n      <td>0.0463</td>\n      <td>0.481</td>\n      <td>145.073</td>\n      <td>audio_features</td>\n      <td>7hbodg9YQKWka80HWOxram</td>\n      <td>spotify:track:7hbodg9YQKWka80HWOxram</td>\n      <td>https://api.spotify.com/v1/tracks/7hbodg9YQKWk...</td>\n      <td>https://api.spotify.com/v1/audio-analysis/7hbo...</td>\n      <td>191110.0</td>\n      <td>4.0</td>\n      <td>ar</td>\n      <td>0</td>\n    </tr>\n    <tr>\n      <th>3914</th>\n      <td>0.654</td>\n      <td>0.209</td>\n      <td>8.0</td>\n      <td>-12.627</td>\n      <td>1.0</td>\n      <td>0.0303</td>\n      <td>0.8200</td>\n      <td>0.000588</td>\n      <td>0.1990</td>\n      <td>0.254</td>\n      <td>84.836</td>\n      <td>audio_features</td>\n      <td>5OUI94Blgl957LuASCdKrB</td>\n      <td>spotify:track:5OUI94Blgl957LuASCdKrB</td>\n      <td>https://api.spotify.com/v1/tracks/5OUI94Blgl95...</td>\n      <td>https://api.spotify.com/v1/audio-analysis/5OUI...</td>\n      <td>111426.0</td>\n      <td>4.0</td>\n      <td>ar</td>\n      <td>0</td>\n    </tr>\n    <tr>\n      <th>6994</th>\n      <td>0.731</td>\n      <td>0.675</td>\n      <td>10.0</td>\n      <td>-5.428</td>\n      <td>1.0</td>\n      <td>0.0397</td>\n      <td>0.6680</td>\n      <td>0.000000</td>\n      <td>0.1600</td>\n      <td>0.753</td>\n      <td>120.963</td>\n      <td>audio_features</td>\n      <td>7feNblkR0A56vttsAGTyzK</td>\n      <td>spotify:track:7feNblkR0A56vttsAGTyzK</td>\n      <td>https://api.spotify.com/v1/tracks/7feNblkR0A56...</td>\n      <td>https://api.spotify.com/v1/audio-analysis/7feN...</td>\n      <td>208955.0</td>\n      <td>4.0</td>\n      <td>ar</td>\n      <td>0</td>\n    </tr>\n  </tbody>\n</table>\n</div>"
     },
     "execution_count": 10,
     "metadata": {},
     "output_type": "execute_result"
    }
   ]
  },
  {
   "cell_type": "code",
   "source": [
    "time_signatures = dataframe['time_signature'].unique()\n",
    "for i in range(len(time_signatures)):\n",
    "    dataframe.loc[dataframe['time_signature'] == time_signatures[i], 'time_signature'] = i\n",
    "dataframe.sample(5)"
   ],
   "metadata": {
    "colab": {
     "base_uri": "https://localhost:8080/",
     "height": 357
    },
    "id": "9vWiBwP52UDF",
    "outputId": "13882475-231d-4482-fa5e-7fe3cb376d27"
   },
   "execution_count": 11,
   "outputs": [
    {
     "data": {
      "text/plain": "      danceability  energy   key  loudness  mode  speechiness  acousticness  \\\n6063         0.813   0.782   5.0    -5.764   1.0       0.0341       0.04740   \n5869         0.560   0.721   9.0    -6.669   1.0       0.0629       0.22500   \n4297         0.705   0.832   9.0    -2.209   1.0       0.0993       0.17100   \n1059         0.743   0.771   5.0    -7.648   0.0       0.3190       0.39600   \n4248         0.630   0.694  10.0    -6.257   0.0       0.0253       0.00281   \n\n      instrumentalness  liveness  valence    tempo            type  \\\n6063          0.279000    0.0577    0.811  120.988  audio_features   \n5869          0.033900    0.0453    0.966  119.285  audio_features   \n4297          0.000000    0.2570    0.883   84.944  audio_features   \n1059          0.000828    0.4450    0.775  171.935  audio_features   \n4248          0.000000    0.0719    0.216   97.005  audio_features   \n\n                          id                                   uri  \\\n6063  0h078RRiZ0cGTG8XOgbqkE  spotify:track:0h078RRiZ0cGTG8XOgbqkE   \n5869  3fnPv1LRMxENr63afVhaz1  spotify:track:3fnPv1LRMxENr63afVhaz1   \n4297  7edrOJQGGvR09QnJ41xH1S  spotify:track:7edrOJQGGvR09QnJ41xH1S   \n1059  3kg9JvQe6QJFKUQCN1oIQz  spotify:track:3kg9JvQe6QJFKUQCN1oIQz   \n4248  04ZTP5KsCypmtCmQg5tH9R  spotify:track:04ZTP5KsCypmtCmQg5tH9R   \n\n                                             track_href  \\\n6063  https://api.spotify.com/v1/tracks/0h078RRiZ0cG...   \n5869  https://api.spotify.com/v1/tracks/3fnPv1LRMxEN...   \n4297  https://api.spotify.com/v1/tracks/7edrOJQGGvR0...   \n1059  https://api.spotify.com/v1/tracks/3kg9JvQe6QJF...   \n4248  https://api.spotify.com/v1/tracks/04ZTP5KsCypm...   \n\n                                           analysis_url  duration_ms  \\\n6063  https://api.spotify.com/v1/audio-analysis/0h07...     230163.0   \n5869  https://api.spotify.com/v1/audio-analysis/3fnP...     182707.0   \n4297  https://api.spotify.com/v1/audio-analysis/7edr...     199271.0   \n1059  https://api.spotify.com/v1/audio-analysis/3kg9...     229240.0   \n4248  https://api.spotify.com/v1/audio-analysis/04ZT...     195519.0   \n\n      time_signature countryCode  hit  \n6063             3.0          ar    0  \n5869             3.0          ar    0  \n4297             3.0          ar    0  \n1059             3.0          ar    1  \n4248             3.0          ar    0  ",
      "text/html": "<div>\n<style scoped>\n    .dataframe tbody tr th:only-of-type {\n        vertical-align: middle;\n    }\n\n    .dataframe tbody tr th {\n        vertical-align: top;\n    }\n\n    .dataframe thead th {\n        text-align: right;\n    }\n</style>\n<table border=\"1\" class=\"dataframe\">\n  <thead>\n    <tr style=\"text-align: right;\">\n      <th></th>\n      <th>danceability</th>\n      <th>energy</th>\n      <th>key</th>\n      <th>loudness</th>\n      <th>mode</th>\n      <th>speechiness</th>\n      <th>acousticness</th>\n      <th>instrumentalness</th>\n      <th>liveness</th>\n      <th>valence</th>\n      <th>tempo</th>\n      <th>type</th>\n      <th>id</th>\n      <th>uri</th>\n      <th>track_href</th>\n      <th>analysis_url</th>\n      <th>duration_ms</th>\n      <th>time_signature</th>\n      <th>countryCode</th>\n      <th>hit</th>\n    </tr>\n  </thead>\n  <tbody>\n    <tr>\n      <th>6063</th>\n      <td>0.813</td>\n      <td>0.782</td>\n      <td>5.0</td>\n      <td>-5.764</td>\n      <td>1.0</td>\n      <td>0.0341</td>\n      <td>0.04740</td>\n      <td>0.279000</td>\n      <td>0.0577</td>\n      <td>0.811</td>\n      <td>120.988</td>\n      <td>audio_features</td>\n      <td>0h078RRiZ0cGTG8XOgbqkE</td>\n      <td>spotify:track:0h078RRiZ0cGTG8XOgbqkE</td>\n      <td>https://api.spotify.com/v1/tracks/0h078RRiZ0cG...</td>\n      <td>https://api.spotify.com/v1/audio-analysis/0h07...</td>\n      <td>230163.0</td>\n      <td>3.0</td>\n      <td>ar</td>\n      <td>0</td>\n    </tr>\n    <tr>\n      <th>5869</th>\n      <td>0.560</td>\n      <td>0.721</td>\n      <td>9.0</td>\n      <td>-6.669</td>\n      <td>1.0</td>\n      <td>0.0629</td>\n      <td>0.22500</td>\n      <td>0.033900</td>\n      <td>0.0453</td>\n      <td>0.966</td>\n      <td>119.285</td>\n      <td>audio_features</td>\n      <td>3fnPv1LRMxENr63afVhaz1</td>\n      <td>spotify:track:3fnPv1LRMxENr63afVhaz1</td>\n      <td>https://api.spotify.com/v1/tracks/3fnPv1LRMxEN...</td>\n      <td>https://api.spotify.com/v1/audio-analysis/3fnP...</td>\n      <td>182707.0</td>\n      <td>3.0</td>\n      <td>ar</td>\n      <td>0</td>\n    </tr>\n    <tr>\n      <th>4297</th>\n      <td>0.705</td>\n      <td>0.832</td>\n      <td>9.0</td>\n      <td>-2.209</td>\n      <td>1.0</td>\n      <td>0.0993</td>\n      <td>0.17100</td>\n      <td>0.000000</td>\n      <td>0.2570</td>\n      <td>0.883</td>\n      <td>84.944</td>\n      <td>audio_features</td>\n      <td>7edrOJQGGvR09QnJ41xH1S</td>\n      <td>spotify:track:7edrOJQGGvR09QnJ41xH1S</td>\n      <td>https://api.spotify.com/v1/tracks/7edrOJQGGvR0...</td>\n      <td>https://api.spotify.com/v1/audio-analysis/7edr...</td>\n      <td>199271.0</td>\n      <td>3.0</td>\n      <td>ar</td>\n      <td>0</td>\n    </tr>\n    <tr>\n      <th>1059</th>\n      <td>0.743</td>\n      <td>0.771</td>\n      <td>5.0</td>\n      <td>-7.648</td>\n      <td>0.0</td>\n      <td>0.3190</td>\n      <td>0.39600</td>\n      <td>0.000828</td>\n      <td>0.4450</td>\n      <td>0.775</td>\n      <td>171.935</td>\n      <td>audio_features</td>\n      <td>3kg9JvQe6QJFKUQCN1oIQz</td>\n      <td>spotify:track:3kg9JvQe6QJFKUQCN1oIQz</td>\n      <td>https://api.spotify.com/v1/tracks/3kg9JvQe6QJF...</td>\n      <td>https://api.spotify.com/v1/audio-analysis/3kg9...</td>\n      <td>229240.0</td>\n      <td>3.0</td>\n      <td>ar</td>\n      <td>1</td>\n    </tr>\n    <tr>\n      <th>4248</th>\n      <td>0.630</td>\n      <td>0.694</td>\n      <td>10.0</td>\n      <td>-6.257</td>\n      <td>0.0</td>\n      <td>0.0253</td>\n      <td>0.00281</td>\n      <td>0.000000</td>\n      <td>0.0719</td>\n      <td>0.216</td>\n      <td>97.005</td>\n      <td>audio_features</td>\n      <td>04ZTP5KsCypmtCmQg5tH9R</td>\n      <td>spotify:track:04ZTP5KsCypmtCmQg5tH9R</td>\n      <td>https://api.spotify.com/v1/tracks/04ZTP5KsCypm...</td>\n      <td>https://api.spotify.com/v1/audio-analysis/04ZT...</td>\n      <td>195519.0</td>\n      <td>3.0</td>\n      <td>ar</td>\n      <td>0</td>\n    </tr>\n  </tbody>\n</table>\n</div>"
     },
     "execution_count": 11,
     "metadata": {},
     "output_type": "execute_result"
    }
   ]
  },
  {
   "cell_type": "markdown",
   "source": [
    "# New section"
   ],
   "metadata": {
    "id": "SKIiAl2aa5Q_"
   }
  },
  {
   "cell_type": "code",
   "source": [
    "features = [\"acousticness\", \"danceability\", \"duration_ms\", \"energy\", \"instrumentalness\", \"key\", \"liveness\", \"loudness\", \"mode\", \"speechiness\", \"tempo\", \"time_signature\", \"valence\"]"
   ],
   "metadata": {
    "id": "vkmDA1uC2hxq"
   },
   "execution_count": 12,
   "outputs": []
  },
  {
   "cell_type": "code",
   "source": [
    "training = dataframe.sample(frac = 0.8,random_state = 420)\n",
    "X_train = training[features]\n",
    "y_train = training['hit']\n",
    "X_test = dataframe.drop(training.index)[features]"
   ],
   "metadata": {
    "id": "KIYR-U3J2uvM"
   },
   "execution_count": 13,
   "outputs": []
  },
  {
   "cell_type": "code",
   "source": [
    "X_train, X_valid, y_train, y_valid = train_test_split(X_train, y_train, test_size = 0.2, random_state = 420, shuffle=True)"
   ],
   "metadata": {
    "id": "s5jzJCHH20a4"
   },
   "execution_count": 14,
   "outputs": []
  },
  {
   "cell_type": "code",
   "source": [
    "# Logistic Regression\n",
    "LogisticRegression_Model = LogisticRegression()\n",
    "LogisticRegression_Model.fit(X_train, y_train)\n",
    "LogisticRegression_Predict = LogisticRegression_Model.predict(X_valid)\n",
    "LogisticRegression_Accuracy = accuracy_score(y_valid, LogisticRegression_Predict)\n",
    "print(\"Accuracy is: \" + str(LogisticRegression_Accuracy))"
   ],
   "metadata": {
    "colab": {
     "base_uri": "https://localhost:8080/"
    },
    "id": "_lGEGK-s22uD",
    "outputId": "cc4aa14f-42b2-453c-a4d4-bc67076e8a97"
   },
   "execution_count": 15,
   "outputs": [
    {
     "name": "stdout",
     "output_type": "stream",
     "text": [
      "Accuracy is: 0.8377403846153846\n"
     ]
    }
   ]
  },
  {
   "cell_type": "code",
   "execution_count": 16,
   "outputs": [
    {
     "name": "stdout",
     "output_type": "stream",
     "text": [
      "Feature: acousticness, Score: -0.000064151702\n",
      "Feature: danceability, Score: -0.000001563986\n",
      "Feature: duration_ms, Score: -0.000004077766\n",
      "Feature: energy, Score: -0.000002232494\n",
      "Feature: instrumentalness, Score: -0.000022608880\n",
      "Feature: key, Score: -0.000437256254\n",
      "Feature: liveness, Score: -0.000013873890\n",
      "Feature: loudness, Score: 0.001094647415\n",
      "Feature: mode, Score: -0.000033421233\n",
      "Feature: speechiness, Score: -0.000003644862\n",
      "Feature: tempo, Score: -0.005796152281\n",
      "Feature: time_signature, Score: -0.000162295243\n",
      "Feature: valence, Score: -0.000006107622\n"
     ]
    },
    {
     "data": {
      "text/plain": "<Figure size 640x480 with 1 Axes>",
      "image/png": "[encoded data removed]"
     },
     "metadata": {},
     "output_type": "display_data"
    }
   ],
   "source": [
    "# Logistic Regression Importance Plot\n",
    "LogisticRegression_Importance = LogisticRegression_Model.coef_[0]\n",
    "for i,v in enumerate(LogisticRegression_Importance):\n",
    "    print('Feature: %s, Score: %.12f' % (features[i],v))\n",
    "\n",
    "pyplot.bar([x for x in range(len(LogisticRegression_Importance))], LogisticRegression_Importance)\n",
    "pyplot.show()"
   ],
   "metadata": {
    "collapsed": false,
    "pycharm": {
     "name": "#%%\n"
    }
   }
  },
  {
   "cell_type": "code",
   "source": [
    "# Random Forest\n",
    "RandomForest_Model = RandomForestClassifier()\n",
    "RandomForest_Model.fit(X_train, y_train)\n",
    "RandomForest_Predict = RandomForest_Model.predict(X_valid)\n",
    "RandomForest_Accuracy = accuracy_score(y_valid, RandomForest_Predict)\n",
    "print(\"Accuracy is: \" + str(RandomForest_Accuracy))"
   ],
   "metadata": {
    "colab": {
     "base_uri": "https://localhost:8080/"
    },
    "id": "iKiPEhrb27UC",
    "outputId": "56a9c0ab-0ae1-4b4d-d2d5-a2c3fca1f650"
   },
   "execution_count": 17,
   "outputs": [
    {
     "name": "stdout",
     "output_type": "stream",
     "text": [
      "Accuracy is: 0.8329326923076923\n"
     ]
    }
   ]
  },
  {
   "cell_type": "code",
   "execution_count": 18,
   "outputs": [
    {
     "name": "stdout",
     "output_type": "stream",
     "text": [
      "Feature: acousticness, Score: 0.102996759144\n",
      "Feature: danceability, Score: 0.114858592931\n",
      "Feature: duration_ms, Score: 0.091347740464\n",
      "Feature: energy, Score: 0.090533371267\n",
      "Feature: instrumentalness, Score: 0.055440046890\n",
      "Feature: key, Score: 0.031152915676\n",
      "Feature: liveness, Score: 0.089714397207\n",
      "Feature: loudness, Score: 0.104315988837\n",
      "Feature: mode, Score: 0.013863730465\n",
      "Feature: speechiness, Score: 0.110045363718\n",
      "Feature: tempo, Score: 0.098959142429\n",
      "Feature: time_signature, Score: 0.003586239148\n",
      "Feature: valence, Score: 0.093185711825\n"
     ]
    },
    {
     "data": {
      "text/plain": "<Figure size 640x480 with 1 Axes>",
      "image/png": "[encoded data removed]"
     },
     "metadata": {},
     "output_type": "display_data"
    }
   ],
   "source": [
    "# Random Forest Importance Plot\n",
    "RandomForest_Importance = RandomForest_Model.feature_importances_\n",
    "for i,v in enumerate(RandomForest_Importance):\n",
    "    print('Feature: %s, Score: %.12f' % (features[i],v))\n",
    "\n",
    "pyplot.bar([x for x in range(len(RandomForest_Importance))], RandomForest_Importance)\n",
    "pyplot.show()"
   ],
   "metadata": {
    "collapsed": false,
    "pycharm": {
     "name": "#%%\n"
    }
   }
  },
  {
   "cell_type": "code",
   "source": [
    "# KNN\n",
    "KNN_Model = KNeighborsClassifier()\n",
    "KNN_Model.fit(X_train, y_train)\n",
    "KNN_Predict = KNN_Model.predict(X_valid)\n",
    "KNN_Accuracy = accuracy_score(y_valid, KNN_Predict)\n",
    "print(\"Accuracy is: \" + str(KNN_Accuracy))"
   ],
   "metadata": {
    "colab": {
     "base_uri": "https://localhost:8080/"
    },
    "id": "_n9wNjSl3F6r",
    "outputId": "88770f16-2ab9-4d92-e19d-1c06c331d6ac"
   },
   "execution_count": 19,
   "outputs": [
    {
     "name": "stdout",
     "output_type": "stream",
     "text": [
      "Accuracy is: 0.8137019230769231\n"
     ]
    }
   ]
  },
  {
   "cell_type": "code",
   "source": [
    "# Decision Tree\n",
    "DecisionTree_Model = DecisionTreeClassifier()\n",
    "DecisionTree_Model.fit(X_train, y_train)\n",
    "DecisionTree_Predict = DecisionTree_Model.predict(X_valid)\n",
    "DecisionTree_Accuracy = accuracy_score(y_valid, DecisionTree_Predict)\n",
    "print(\"Accuracy is: \" + str(DecisionTree_Accuracy))"
   ],
   "metadata": {
    "colab": {
     "base_uri": "https://localhost:8080/"
    },
    "id": "n35DJVNC3MZh",
    "outputId": "1a43d80a-7cce-4b07-d0da-c4e5f5b5dd22"
   },
   "execution_count": 20,
   "outputs": [
    {
     "name": "stdout",
     "output_type": "stream",
     "text": [
      "Accuracy is: 0.7427884615384616\n"
     ]
    }
   ]
  },
  {
   "cell_type": "code",
   "execution_count": 21,
   "outputs": [
    {
     "name": "stdout",
     "output_type": "stream",
     "text": [
      "Feature: 0, Score: 0.10948\n",
      "Feature: 1, Score: 0.13642\n",
      "Feature: 2, Score: 0.05433\n",
      "Feature: 3, Score: 0.09400\n",
      "Feature: 4, Score: 0.06811\n",
      "Feature: 5, Score: 0.03346\n",
      "Feature: 6, Score: 0.09560\n",
      "Feature: 7, Score: 0.08900\n",
      "Feature: 8, Score: 0.01485\n",
      "Feature: 9, Score: 0.09368\n",
      "Feature: 10, Score: 0.09204\n",
      "Feature: 11, Score: 0.00571\n",
      "Feature: 12, Score: 0.11333\n"
     ]
    },
    {
     "data": {
      "text/plain": "<Figure size 640x480 with 1 Axes>",
      "image/png": "[encoded data removed]"
     },
     "metadata": {},
     "output_type": "display_data"
    }
   ],
   "source": [
    "# Decision Tree Importance Plot\n",
    "DecisionTree_Importance = DecisionTree_Model.feature_importances_\n",
    "for i,v in enumerate(DecisionTree_Importance):\n",
    "    print('Feature: %0d, Score: %.5f' % (i,v))\n",
    "\n",
    "pyplot.bar([x for x in range(len(DecisionTree_Importance))], DecisionTree_Importance)\n",
    "pyplot.show()"
   ],
   "metadata": {
    "collapsed": false,
    "pycharm": {
     "name": "#%%\n"
    }
   }
  },
  {
   "cell_type": "code",
   "source": [
    "# Linear Support Vector Classification\n",
    "training_LinearSupportVector = training.sample(3000)\n",
    "X_train_LinearSupportVector = training_LinearSupportVector[features]\n",
    "y_train_LinearSupportVector = training_LinearSupportVector['hit']\n",
    "X_test_LinearSupportVector = dataframe.drop(training_LinearSupportVector.index)[features]\n",
    "X_train_LinearSupportVector, X_valid_LinearSupportVector, y_train_LinearSupportVector, y_valid_LinearSupportVector = train_test_split(\n",
    "    X_train_LinearSupportVector, y_train_LinearSupportVector, test_size=0.2, random_state=420)"
   ],
   "metadata": {
    "id": "5Edt9VbV3Q2a"
   },
   "execution_count": 22,
   "outputs": []
  },
  {
   "cell_type": "code",
   "source": [
    "#Linear SVC\n",
    "LinearSupportVector_Model = LinearSVC()\n",
    "LinearSupportVector_Model.fit(X_train_LinearSupportVector, y_train_LinearSupportVector)\n",
    "LinearSupportVector_Predict = LinearSupportVector_Model.predict(X_valid_LinearSupportVector)\n",
    "LinearSupportVector_Accuracy = accuracy_score(y_valid_LinearSupportVector, LinearSupportVector_Predict)\n",
    "print(\"Accuracy is: \" + str(LinearSupportVector_Accuracy))"
   ],
   "metadata": {
    "colab": {
     "base_uri": "https://localhost:8080/"
    },
    "id": "Q2i0-xNV3e8Q",
    "outputId": "3fa9a67c-cc48-4b2b-c093-aaba7b9a8db0"
   },
   "execution_count": 23,
   "outputs": [
    {
     "name": "stdout",
     "output_type": "stream",
     "text": [
      "Accuracy is: 0.8316666666666667\n"
     ]
    }
   ]
  },
  {
   "cell_type": "code",
   "source": [
    "# XG BOOST\n",
    "XGBoost_Model = XGBClassifier(objective=\"binary:logistic\", n_estimators=10, seed=123)\n",
    "XGBoost_Model.fit(X_train, y_train)\n",
    "XGBoost_Predict = XGBoost_Model.predict(X_valid)\n",
    "XGBoost_Accuracy = accuracy_score(y_valid, XGBoost_Predict)\n",
    "print(\"Accuracy is: \" + str(XGBoost_Accuracy))"
   ],
   "metadata": {
    "colab": {
     "base_uri": "https://localhost:8080/"
    },
    "id": "Yak-9ldV3ho6",
    "outputId": "0c2ecb10-b940-4437-a2e5-7283eb496810"
   },
   "execution_count": 24,
   "outputs": [
    {
     "name": "stdout",
     "output_type": "stream",
     "text": [
      "Accuracy is: 0.8269230769230769\n"
     ]
    }
   ]
  },
  {
   "cell_type": "code",
   "execution_count": 25,
   "outputs": [
    {
     "name": "stdout",
     "output_type": "stream",
     "text": [
      "Feature: 0, Score: 0.07116\n",
      "Feature: 1, Score: 0.12620\n",
      "Feature: 2, Score: 0.06085\n",
      "Feature: 3, Score: 0.07472\n",
      "Feature: 4, Score: 0.08762\n",
      "Feature: 5, Score: 0.09686\n",
      "Feature: 6, Score: 0.06215\n",
      "Feature: 7, Score: 0.09038\n",
      "Feature: 8, Score: 0.03790\n",
      "Feature: 9, Score: 0.08743\n",
      "Feature: 10, Score: 0.06350\n",
      "Feature: 11, Score: 0.07876\n",
      "Feature: 12, Score: 0.06247\n"
     ]
    },
    {
     "data": {
      "text/plain": "<Figure size 640x480 with 1 Axes>",
      "image/png": "[encoded data removed]"
     },
     "metadata": {},
     "output_type": "display_data"
    }
   ],
   "source": [
    "# XG BOOST Importance Plot\n",
    "XGBoost_Importance = XGBoost_Model.feature_importances_\n",
    "for i, v in enumerate(XGBoost_Importance):\n",
    "    print('Feature: %0d, Score: %.5f' % (i, v))\n",
    "\n",
    "pyplot.bar([x for x in range(len(XGBoost_Importance))], XGBoost_Importance)\n",
    "pyplot.show()"
   ],
   "metadata": {
    "collapsed": false,
    "pycharm": {
     "name": "#%%\n"
    }
   }
  },
  {
   "cell_type": "code",
   "execution_count": 26,
   "outputs": [
    {
     "name": "stdout",
     "output_type": "stream",
     "text": [
      "Accuracy is : 0.8377403846153846\n"
     ]
    }
   ],
   "source": [
    "# Gaussian Naive Bayes\n",
    "GaussianNaiveBayes_Model = GaussianNB()\n",
    "GaussianNaiveBayes_Model.fit(X_train, y_train)\n",
    "GaussianNaiveBayes_Predict = GaussianNaiveBayes_Model.predict(X_valid)\n",
    "GaussianNaiveBayes_Accuracy = accuracy_score(y_valid, GaussianNaiveBayes_Predict)\n",
    "print(\"Accuracy is : \" + str(GaussianNaiveBayes_Accuracy))"
   ],
   "metadata": {
    "collapsed": false,
    "pycharm": {
     "name": "#%%\n"
    }
   }
  },
  {
   "cell_type": "code",
   "execution_count": 27,
   "outputs": [
    {
     "name": "stdout",
     "output_type": "stream",
     "text": [
      "Accuracy is : 0.8269230769230769\n"
     ]
    }
   ],
   "source": [
    "# ADA Boost\n",
    "AdaBoost_Model = AdaBoostClassifier()\n",
    "AdaBoost_Model.fit(X_train, y_train)\n",
    "AdaBoost_Predict = AdaBoost_Model.predict(X_valid)\n",
    "AdaBoost_Accuracy = accuracy_score(y_valid, AdaBoost_Predict)\n",
    "print(\"Accuracy is : \" + str(AdaBoost_Accuracy))"
   ],
   "metadata": {
    "collapsed": false,
    "pycharm": {
     "name": "#%%\n"
    }
   }
  },
  {
   "cell_type": "code",
   "execution_count": 28,
   "outputs": [
    {
     "name": "stdout",
     "output_type": "stream",
     "text": [
      "Feature: 0, Score: 0.10000\n",
      "Feature: 1, Score: 0.10000\n",
      "Feature: 2, Score: 0.14000\n",
      "Feature: 3, Score: 0.16000\n",
      "Feature: 4, Score: 0.12000\n",
      "Feature: 5, Score: 0.02000\n",
      "Feature: 6, Score: 0.06000\n",
      "Feature: 7, Score: 0.08000\n",
      "Feature: 8, Score: 0.00000\n",
      "Feature: 9, Score: 0.10000\n",
      "Feature: 10, Score: 0.08000\n",
      "Feature: 11, Score: 0.02000\n",
      "Feature: 12, Score: 0.02000\n"
     ]
    },
    {
     "data": {
      "text/plain": "<Figure size 640x480 with 1 Axes>",
      "image/png": "[encoded data removed]"
     },
     "metadata": {},
     "output_type": "display_data"
    }
   ],
   "source": [
    "# ADA Boost Importance Plot\n",
    "AdaBoost_Importance = AdaBoost_Model.feature_importances_\n",
    "for i, v in enumerate(AdaBoost_Importance):\n",
    "    print('Feature: %0d, Score: %.5f' % (i, v))\n",
    "\n",
    "pyplot.bar([x for x in range(len(AdaBoost_Importance))], AdaBoost_Importance)\n",
    "pyplot.show()"
   ],
   "metadata": {
    "collapsed": false,
    "pycharm": {
     "name": "#%%\n"
    }
   }
  },
  {
   "cell_type": "code",
   "source": [
    "performance = pd.DataFrame({'Model': ['LogisticRegression',\n",
    "                                                     'RandomForestClassifier',\n",
    "                                                     'KNeighborsClassifier',\n",
    "                                                     'DecisionTreeClassifier',\n",
    "                                                     'LinearSVC',\n",
    "                                                     'XGBClassifier',\n",
    "                                                     'GNBClassifier',\n",
    "                                                     'ADABoostClassifier'],\n",
    "                                           'Accuracy_Obtained': [LogisticRegression_Accuracy,\n",
    "                                                                 RandomForest_Accuracy,\n",
    "                                                                 KNN_Accuracy,\n",
    "                                                                 DecisionTree_Accuracy,\n",
    "                                                                 LinearSupportVector_Accuracy,\n",
    "                                                                 XGBoost_Accuracy,\n",
    "                                                                 GaussianNaiveBayes_Accuracy,\n",
    "                                                                 AdaBoost_Accuracy]})"
   ],
   "metadata": {
    "id": "_lhZRd5A3pom"
   },
   "execution_count": 29,
   "outputs": []
  },
  {
   "cell_type": "code",
   "source": [
    "performance.sort_values(by=\"Accuracy_Obtained\", ascending=False)"
   ],
   "metadata": {
    "colab": {
     "base_uri": "https://localhost:8080/",
     "height": 238
    },
    "id": "3W-qF5YX3taW",
    "outputId": "424c9f9f-22fd-42de-be41-629afefe0c91"
   },
   "execution_count": 30,
   "outputs": [
    {
     "data": {
      "text/plain": "                    Model  Accuracy_Obtained\n0      LogisticRegression           0.837740\n6           GNBClassifier           0.837740\n1  RandomForestClassifier           0.832933\n4               LinearSVC           0.831667\n5           XGBClassifier           0.826923\n7      ADABoostClassifier           0.826923\n2    KNeighborsClassifier           0.813702\n3  DecisionTreeClassifier           0.742788",
      "text/html": "<div>\n<style scoped>\n    .dataframe tbody tr th:only-of-type {\n        vertical-align: middle;\n    }\n\n    .dataframe tbody tr th {\n        vertical-align: top;\n    }\n\n    .dataframe thead th {\n        text-align: right;\n    }\n</style>\n<table border=\"1\" class=\"dataframe\">\n  <thead>\n    <tr style=\"text-align: right;\">\n      <th></th>\n      <th>Model</th>\n      <th>Accuracy_Obtained</th>\n    </tr>\n  </thead>\n  <tbody>\n    <tr>\n      <th>0</th>\n      <td>LogisticRegression</td>\n      <td>0.837740</td>\n    </tr>\n    <tr>\n      <th>6</th>\n      <td>GNBClassifier</td>\n      <td>0.837740</td>\n    </tr>\n    <tr>\n      <th>1</th>\n      <td>RandomForestClassifier</td>\n      <td>0.832933</td>\n    </tr>\n    <tr>\n      <th>4</th>\n      <td>LinearSVC</td>\n      <td>0.831667</td>\n    </tr>\n    <tr>\n      <th>5</th>\n      <td>XGBClassifier</td>\n      <td>0.826923</td>\n    </tr>\n    <tr>\n      <th>7</th>\n      <td>ADABoostClassifier</td>\n      <td>0.826923</td>\n    </tr>\n    <tr>\n      <th>2</th>\n      <td>KNeighborsClassifier</td>\n      <td>0.813702</td>\n    </tr>\n    <tr>\n      <th>3</th>\n      <td>DecisionTreeClassifier</td>\n      <td>0.742788</td>\n    </tr>\n  </tbody>\n</table>\n</div>"
     },
     "execution_count": 30,
     "metadata": {},
     "output_type": "execute_result"
    }
   ]
  },
  {
   "cell_type": "code",
   "execution_count": 31,
   "outputs": [],
   "source": [
    "features = [\"acousticness\", \"danceability\", \"duration_ms\", \"energy\", \"instrumentalness\", \"liveness\", \"loudness\",\n",
    "             \"speechiness\", \"tempo\", \"valence\"]"
   ],
   "metadata": {
    "collapsed": false,
    "pycharm": {
     "name": "#%%\n"
    }
   }
  },
  {
   "cell_type": "code",
   "execution_count": 32,
   "outputs": [],
   "source": [
    "training = dataframe.sample(frac = 0.8,random_state = 420)\n",
    "X_train = training[features]\n",
    "y_train = training['hit']\n",
    "X_test = dataframe.drop(training.index)[features]"
   ],
   "metadata": {
    "collapsed": false,
    "pycharm": {
     "name": "#%%\n"
    }
   }
  },
  {
   "cell_type": "code",
   "execution_count": 33,
   "outputs": [],
   "source": [
    "X_train, X_valid, y_train, y_valid = train_test_split(X_train, y_train, test_size = 0.2, random_state = 420, shuffle=True)"
   ],
   "metadata": {
    "collapsed": false,
    "pycharm": {
     "name": "#%%\n"
    }
   }
  },
  {
   "cell_type": "code",
   "execution_count": 34,
   "outputs": [
    {
     "name": "stdout",
     "output_type": "stream",
     "text": [
      "Accuracy is: 0.8377403846153846\n"
     ]
    }
   ],
   "source": [
    "# Logistic Regression\n",
    "LogisticRegression_Model = LogisticRegression()\n",
    "LogisticRegression_Model.fit(X_train, y_train)\n",
    "LogisticRegression_Predict = LogisticRegression_Model.predict(X_valid)\n",
    "LogisticRegression_Accuracy = accuracy_score(y_valid, LogisticRegression_Predict)\n",
    "print(\"Accuracy is: \" + str(LogisticRegression_Accuracy))"
   ],
   "metadata": {
    "collapsed": false,
    "pycharm": {
     "name": "#%%\n"
    }
   }
  },
  {
   "cell_type": "code",
   "execution_count": 35,
   "outputs": [
    {
     "name": "stdout",
     "output_type": "stream",
     "text": [
      "Feature: acousticness, Score: -0.000064103935\n",
      "Feature: danceability, Score: -0.000001562822\n",
      "Feature: duration_ms, Score: -0.000004098988\n",
      "Feature: energy, Score: -0.000002230833\n",
      "Feature: instrumentalness, Score: -0.000022592046\n",
      "Feature: liveness, Score: -0.000013863560\n",
      "Feature: loudness, Score: 0.001093832361\n",
      "Feature: speechiness, Score: -0.000003642148\n",
      "Feature: tempo, Score: -0.005791836665\n",
      "Feature: valence, Score: -0.000006103075\n"
     ]
    },
    {
     "data": {
      "text/plain": "<Figure size 640x480 with 1 Axes>",
      "image/png": "[encoded data removed]"
     },
     "metadata": {},
     "output_type": "display_data"
    }
   ],
   "source": [
    "# Logistic Regression Importance Plot\n",
    "LogisticRegression_Importance = LogisticRegression_Model.coef_[0]\n",
    "for i,v in enumerate(LogisticRegression_Importance):\n",
    "    print('Feature: %s, Score: %.12f' % (features[i],v))\n",
    "\n",
    "pyplot.bar([x for x in range(len(LogisticRegression_Importance))], LogisticRegression_Importance)\n",
    "pyplot.show()"
   ],
   "metadata": {
    "collapsed": false,
    "pycharm": {
     "name": "#%%\n"
    }
   }
  },
  {
   "cell_type": "code",
   "execution_count": 36,
   "outputs": [
    {
     "name": "stdout",
     "output_type": "stream",
     "text": [
      "Accuracy is: 0.8293269230769231\n"
     ]
    }
   ],
   "source": [
    "# Random Forest\n",
    "RandomForest_Model = RandomForestClassifier()\n",
    "RandomForest_Model.fit(X_train, y_train)\n",
    "RandomForest_Predict = RandomForest_Model.predict(X_valid)\n",
    "RandomForest_Accuracy = accuracy_score(y_valid, RandomForest_Predict)\n",
    "print(\"Accuracy is: \" + str(RandomForest_Accuracy))"
   ],
   "metadata": {
    "collapsed": false,
    "pycharm": {
     "name": "#%%\n"
    }
   }
  },
  {
   "cell_type": "code",
   "execution_count": 37,
   "outputs": [
    {
     "name": "stdout",
     "output_type": "stream",
     "text": [
      "Feature: acousticness, Score: 0.107101039089\n",
      "Feature: danceability, Score: 0.118381815616\n",
      "Feature: duration_ms, Score: 0.094836961518\n",
      "Feature: energy, Score: 0.097305545641\n",
      "Feature: instrumentalness, Score: 0.059256003628\n",
      "Feature: liveness, Score: 0.094621717394\n",
      "Feature: loudness, Score: 0.111518264690\n",
      "Feature: speechiness, Score: 0.112933136865\n",
      "Feature: tempo, Score: 0.101008195090\n",
      "Feature: valence, Score: 0.103037320470\n"
     ]
    },
    {
     "data": {
      "text/plain": "<Figure size 640x480 with 1 Axes>",
      "image/png": "[encoded data removed]"
     },
     "metadata": {},
     "output_type": "display_data"
    }
   ],
   "source": [
    "# Random Forest Importance Plot\n",
    "RandomForest_Importance = RandomForest_Model.feature_importances_\n",
    "for i,v in enumerate(RandomForest_Importance):\n",
    "    print('Feature: %s, Score: %.12f' % (features[i],v))\n",
    "\n",
    "pyplot.bar([x for x in range(len(RandomForest_Importance))], RandomForest_Importance)\n",
    "pyplot.show()"
   ],
   "metadata": {
    "collapsed": false,
    "pycharm": {
     "name": "#%%\n"
    }
   }
  },
  {
   "cell_type": "code",
   "execution_count": 38,
   "outputs": [
    {
     "name": "stdout",
     "output_type": "stream",
     "text": [
      "Accuracy is: 0.8137019230769231\n"
     ]
    }
   ],
   "source": [
    "# KNN\n",
    "KNN_Model = KNeighborsClassifier()\n",
    "KNN_Model.fit(X_train, y_train)\n",
    "KNN_Predict = KNN_Model.predict(X_valid)\n",
    "KNN_Accuracy = accuracy_score(y_valid, KNN_Predict)\n",
    "print(\"Accuracy is: \" + str(KNN_Accuracy))"
   ],
   "metadata": {
    "collapsed": false,
    "pycharm": {
     "name": "#%%\n"
    }
   }
  },
  {
   "cell_type": "code",
   "execution_count": 39,
   "outputs": [
    {
     "name": "stdout",
     "output_type": "stream",
     "text": [
      "Accuracy is: 0.7451923076923077\n"
     ]
    }
   ],
   "source": [
    "# Decision Tree\n",
    "DecisionTree_Model = DecisionTreeClassifier()\n",
    "DecisionTree_Model.fit(X_train, y_train)\n",
    "DecisionTree_Predict = DecisionTree_Model.predict(X_valid)\n",
    "DecisionTree_Accuracy = accuracy_score(y_valid, DecisionTree_Predict)\n",
    "print(\"Accuracy is: \" + str(DecisionTree_Accuracy))"
   ],
   "metadata": {
    "collapsed": false,
    "pycharm": {
     "name": "#%%\n"
    }
   }
  },
  {
   "cell_type": "code",
   "execution_count": 40,
   "outputs": [
    {
     "name": "stdout",
     "output_type": "stream",
     "text": [
      "Feature: 0, Score: 0.10396\n",
      "Feature: 1, Score: 0.13332\n",
      "Feature: 2, Score: 0.05970\n",
      "Feature: 3, Score: 0.09013\n",
      "Feature: 4, Score: 0.06335\n",
      "Feature: 5, Score: 0.10229\n",
      "Feature: 6, Score: 0.09431\n",
      "Feature: 7, Score: 0.11085\n",
      "Feature: 8, Score: 0.11968\n",
      "Feature: 9, Score: 0.12241\n"
     ]
    },
    {
     "data": {
      "text/plain": "<Figure size 640x480 with 1 Axes>",
      "image/png": "[encoded data removed]"
     },
     "metadata": {},
     "output_type": "display_data"
    }
   ],
   "source": [
    "# Decision Tree Importance Plot\n",
    "DecisionTree_Importance = DecisionTree_Model.feature_importances_\n",
    "for i,v in enumerate(DecisionTree_Importance):\n",
    "    print('Feature: %0d, Score: %.5f' % (i,v))\n",
    "\n",
    "pyplot.bar([x for x in range(len(DecisionTree_Importance))], DecisionTree_Importance)\n",
    "pyplot.show()"
   ],
   "metadata": {
    "collapsed": false,
    "pycharm": {
     "name": "#%%\n"
    }
   }
  },
  {
   "cell_type": "code",
   "execution_count": 41,
   "outputs": [],
   "source": [
    "# Linear Support Vector Classification\n",
    "training_LinearSupportVector = training.sample(3000)\n",
    "X_train_LinearSupportVector = training_LinearSupportVector[features]\n",
    "y_train_LinearSupportVector = training_LinearSupportVector['hit']\n",
    "X_test_LinearSupportVector = dataframe.drop(training_LinearSupportVector.index)[features]\n",
    "X_train_LinearSupportVector, X_valid_LinearSupportVector, y_train_LinearSupportVector, y_valid_LinearSupportVector = train_test_split(X_train_LinearSupportVector, y_train_LinearSupportVector, test_size = 0.2, random_state = 420)"
   ],
   "metadata": {
    "collapsed": false,
    "pycharm": {
     "name": "#%%\n"
    }
   }
  },
  {
   "cell_type": "code",
   "execution_count": 42,
   "outputs": [
    {
     "name": "stdout",
     "output_type": "stream",
     "text": [
      "Accuracy is: 0.8183333333333334\n"
     ]
    }
   ],
   "source": [
    "#Linear SVC\n",
    "LinearSupportVector_Model = LinearSVC()\n",
    "LinearSupportVector_Model.fit(X_train_LinearSupportVector, y_train_LinearSupportVector)\n",
    "LinearSupportVector_Predict = LinearSupportVector_Model.predict(X_valid_LinearSupportVector)\n",
    "LinearSupportVector_Accuracy = accuracy_score(y_valid_LinearSupportVector, LinearSupportVector_Predict)\n",
    "print(\"Accuracy is: \" + str(LinearSupportVector_Accuracy))"
   ],
   "metadata": {
    "collapsed": false,
    "pycharm": {
     "name": "#%%\n"
    }
   }
  },
  {
   "cell_type": "code",
   "execution_count": 43,
   "outputs": [
    {
     "name": "stdout",
     "output_type": "stream",
     "text": [
      "Accuracy is: 0.8317307692307693\n"
     ]
    }
   ],
   "source": [
    "# XG BOOST\n",
    "XGBoost_Model = XGBClassifier(objective = \"binary:logistic\", n_estimators = 10, seed = 123)\n",
    "XGBoost_Model.fit(X_train, y_train)\n",
    "XGBoost_Predict = XGBoost_Model.predict(X_valid)\n",
    "XGBoost_Accuracy = accuracy_score(y_valid, XGBoost_Predict)\n",
    "print(\"Accuracy is: \" + str(XGBoost_Accuracy))"
   ],
   "metadata": {
    "collapsed": false,
    "pycharm": {
     "name": "#%%\n"
    }
   }
  },
  {
   "cell_type": "code",
   "execution_count": 44,
   "outputs": [
    {
     "name": "stdout",
     "output_type": "stream",
     "text": [
      "Feature: 0, Score: 0.10251\n",
      "Feature: 1, Score: 0.16011\n",
      "Feature: 2, Score: 0.07636\n",
      "Feature: 3, Score: 0.09176\n",
      "Feature: 4, Score: 0.10587\n",
      "Feature: 5, Score: 0.08055\n",
      "Feature: 6, Score: 0.11347\n",
      "Feature: 7, Score: 0.10614\n",
      "Feature: 8, Score: 0.07870\n",
      "Feature: 9, Score: 0.08454\n"
     ]
    },
    {
     "data": {
      "text/plain": "<Figure size 640x480 with 1 Axes>",
      "image/png": "[encoded data removed]"
     },
     "metadata": {},
     "output_type": "display_data"
    }
   ],
   "source": [
    "# XG BOOST Importance Plot\n",
    "XGBoost_Importance = XGBoost_Model.feature_importances_\n",
    "for i,v in enumerate(XGBoost_Importance):\n",
    "    print('Feature: %0d, Score: %.5f' % (i,v))\n",
    "\n",
    "pyplot.bar([x for x in range(len(XGBoost_Importance))], XGBoost_Importance)\n",
    "pyplot.show()"
   ],
   "metadata": {
    "collapsed": false,
    "pycharm": {
     "name": "#%%\n"
    }
   }
  },
  {
   "cell_type": "code",
   "execution_count": 45,
   "outputs": [
    {
     "name": "stdout",
     "output_type": "stream",
     "text": [
      "Accuracy is : 0.8377403846153846\n"
     ]
    }
   ],
   "source": [
    "# Gaussian Naive Bayes\n",
    "GaussianNaiveBayes_Model = GaussianNB()\n",
    "GaussianNaiveBayes_Model.fit(X_train, y_train)\n",
    "GaussianNaiveBayes_Predict = GaussianNaiveBayes_Model.predict(X_valid)\n",
    "GaussianNaiveBayes_Accuracy = accuracy_score(y_valid, GaussianNaiveBayes_Predict)\n",
    "print(\"Accuracy is : \" + str(GaussianNaiveBayes_Accuracy))"
   ],
   "metadata": {
    "collapsed": false,
    "pycharm": {
     "name": "#%%\n"
    }
   }
  },
  {
   "cell_type": "code",
   "execution_count": 46,
   "outputs": [
    {
     "name": "stdout",
     "output_type": "stream",
     "text": [
      "Accuracy is : 0.828125\n"
     ]
    }
   ],
   "source": [
    "# ADA Boost\n",
    "AdaBoost_Model = AdaBoostClassifier()\n",
    "AdaBoost_Model.fit(X_train, y_train)\n",
    "AdaBoost_Predict = AdaBoost_Model.predict(X_valid)\n",
    "AdaBoost_Accuracy = accuracy_score(y_valid, AdaBoost_Predict)\n",
    "print(\"Accuracy is : \" + str(AdaBoost_Accuracy))"
   ],
   "metadata": {
    "collapsed": false,
    "pycharm": {
     "name": "#%%\n"
    }
   }
  },
  {
   "cell_type": "code",
   "execution_count": 47,
   "outputs": [
    {
     "name": "stdout",
     "output_type": "stream",
     "text": [
      "Feature: 0, Score: 0.08000\n",
      "Feature: 1, Score: 0.10000\n",
      "Feature: 2, Score: 0.18000\n",
      "Feature: 3, Score: 0.16000\n",
      "Feature: 4, Score: 0.12000\n",
      "Feature: 5, Score: 0.08000\n",
      "Feature: 6, Score: 0.08000\n",
      "Feature: 7, Score: 0.10000\n",
      "Feature: 8, Score: 0.08000\n",
      "Feature: 9, Score: 0.02000\n"
     ]
    },
    {
     "data": {
      "text/plain": "<Figure size 640x480 with 1 Axes>",
      "image/png": "[encoded data removed]"
     },
     "metadata": {},
     "output_type": "display_data"
    }
   ],
   "source": [
    "# ADA Boost Importance Plot\n",
    "AdaBoost_Importance = AdaBoost_Model.feature_importances_\n",
    "for i,v in enumerate(AdaBoost_Importance):\n",
    "    print('Feature: %0d, Score: %.5f' % (i,v))\n",
    "\n",
    "pyplot.bar([x for x in range(len(AdaBoost_Importance))], AdaBoost_Importance)\n",
    "pyplot.show()"
   ],
   "metadata": {
    "collapsed": false,
    "pycharm": {
     "name": "#%%\n"
    }
   }
  },
  {
   "cell_type": "code",
   "execution_count": 48,
   "outputs": [],
   "source": [
    "performance = pd.DataFrame({'Model': ['LogisticRegression',\n",
    "                                                     'RandomForestClassifier',\n",
    "                                                     'KNeighborsClassifier',\n",
    "                                                     'DecisionTreeClassifier',\n",
    "                                                     'LinearSVC',\n",
    "                                                     'XGBClassifier',\n",
    "                                                     'GNBClassifier',\n",
    "                                                     'ADABoostClassifier'],\n",
    "                                           'Accuracy_Obtained': [LogisticRegression_Accuracy,\n",
    "                                                        RandomForest_Accuracy,\n",
    "                                                        KNN_Accuracy,\n",
    "                                                        DecisionTree_Accuracy,\n",
    "                                                        LinearSupportVector_Accuracy,\n",
    "                                                        XGBoost_Accuracy,\n",
    "                                                        GaussianNaiveBayes_Accuracy,\n",
    "                                                        AdaBoost_Accuracy]})"
   ],
   "metadata": {
    "collapsed": false,
    "pycharm": {
     "name": "#%%\n"
    }
   }
  },
  {
   "cell_type": "code",
   "execution_count": 49,
   "outputs": [
    {
     "data": {
      "text/plain": "                    Model  Accuracy_Obtained\n0      LogisticRegression           0.837740\n6           GNBClassifier           0.837740\n5           XGBClassifier           0.831731\n1  RandomForestClassifier           0.829327\n7      ADABoostClassifier           0.828125\n4               LinearSVC           0.818333\n2    KNeighborsClassifier           0.813702\n3  DecisionTreeClassifier           0.745192",
      "text/html": "<div>\n<style scoped>\n    .dataframe tbody tr th:only-of-type {\n        vertical-align: middle;\n    }\n\n    .dataframe tbody tr th {\n        vertical-align: top;\n    }\n\n    .dataframe thead th {\n        text-align: right;\n    }\n</style>\n<table border=\"1\" class=\"dataframe\">\n  <thead>\n    <tr style=\"text-align: right;\">\n      <th></th>\n      <th>Model</th>\n      <th>Accuracy_Obtained</th>\n    </tr>\n  </thead>\n  <tbody>\n    <tr>\n      <th>0</th>\n      <td>LogisticRegression</td>\n      <td>0.837740</td>\n    </tr>\n    <tr>\n      <th>6</th>\n      <td>GNBClassifier</td>\n      <td>0.837740</td>\n    </tr>\n    <tr>\n      <th>5</th>\n      <td>XGBClassifier</td>\n      <td>0.831731</td>\n    </tr>\n    <tr>\n      <th>1</th>\n      <td>RandomForestClassifier</td>\n      <td>0.829327</td>\n    </tr>\n    <tr>\n      <th>7</th>\n      <td>ADABoostClassifier</td>\n      <td>0.828125</td>\n    </tr>\n    <tr>\n      <th>4</th>\n      <td>LinearSVC</td>\n      <td>0.818333</td>\n    </tr>\n    <tr>\n      <th>2</th>\n      <td>KNeighborsClassifier</td>\n      <td>0.813702</td>\n    </tr>\n    <tr>\n      <th>3</th>\n      <td>DecisionTreeClassifier</td>\n      <td>0.745192</td>\n    </tr>\n  </tbody>\n</table>\n</div>"
     },
     "execution_count": 49,
     "metadata": {},
     "output_type": "execute_result"
    }
   ],
   "source": [
    "performance.sort_values(by = \"Accuracy_Obtained\", ascending = False)"
   ],
   "metadata": {
    "collapsed": false,
    "pycharm": {
     "name": "#%%\n"
    }
   }
  }
 ]
}